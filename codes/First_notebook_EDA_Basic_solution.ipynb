{
 "cells": [
  {
   "cell_type": "code",
   "execution_count": 1,
   "metadata": {
    "collapsed": false
   },
   "outputs": [
    {
     "name": "stderr",
     "output_type": "stream",
     "text": [
      "/opt/anaconda2/lib/python2.7/site-packages/sklearn/cross_validation.py:44: DeprecationWarning: This module was deprecated in version 0.18 in favor of the model_selection module into which all the refactored classes and functions are moved. Also note that the interface of the new CV iterators are different from that of this module. This module will be removed in 0.20.\n",
      "  \"This module will be removed in 0.20.\", DeprecationWarning)\n"
     ]
    }
   ],
   "source": [
    "import pandas as pd, numpy as np, sys, random, xgboost as xgb\n",
    "from sklearn.ensemble import RandomForestClassifier\n",
    "from sklearn.preprocessing import LabelEncoder\n",
    "import numpy as np\n",
    "import pandas as pd\n",
    "from random import sample\n",
    "\n",
    "\n",
    "random.seed(321)\n",
    "np.random.seed(321)\n",
    "\n",
    "import os \n",
    "os.chdir('/home/rachit/Data_Set/')\n",
    "\n",
    "def prepare_submission(model):\n",
    "\tsub = pd.DataFrame(data = {'sample_id': X_test['sample_id'].ravel()})\n",
    "\tdel X_test[\"sample_id\"]\n",
    "\txgtest = xgb.DMatrix(X_test)\n",
    "\tpreds = model.predict(xgtest)  \n",
    "\tsub['is_listened'] = preds[:, 1]\n",
    "\tsub.to_csv(\"submissions/submission.csv\", index = False, header = True)\n",
    "\n",
    "def transform_categorical_data():\n",
    "    categorical = ['genre_id', 'album_id', \n",
    "                   'context_type', 'platform_name',\n",
    "                   'platform_family','listen_type','user_gender']\n",
    "                   \n",
    "    for f in categorical:\n",
    "        encoder = LabelEncoder()\n",
    "        encoder.fit(list(X_train[f]) + list(X_test[f])) \n",
    "        X_train[f] = encoder.transform(X_train[f].ravel())\n",
    "        X_test[f] = encoder.transform(X_test[f].ravel())\n",
    "\n",
    "\n",
    "\n",
    "def remove_columns(X):\n",
    "    columns = ['genre_id', 'album_id','context_type',\n",
    "               'platform_name','platform_family','listen_type',\n",
    "               'user_gender','user_id']\n",
    "    for c in columns:\n",
    "        del X[c]\n",
    "\n",
    "X_train = pd.read_csv(\"train.csv\")\n",
    "X_test = pd.read_csv(\"test.csv\")\n"
   ]
  }
 ],
 "metadata": {
  "kernelspec": {
   "display_name": "Python 2",
   "language": "python",
   "name": "python2"
  },
  "language_info": {
   "codemirror_mode": {
    "name": "ipython",
    "version": 2
   },
   "file_extension": ".py",
   "mimetype": "text/x-python",
   "name": "python",
   "nbconvert_exporter": "python",
   "pygments_lexer": "ipython2",
   "version": "2.7.13"
  }
 },
 "nbformat": 4,
 "nbformat_minor": 2
}
